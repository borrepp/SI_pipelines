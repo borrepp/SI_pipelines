{
 "cells": [
  {
   "cell_type": "code",
   "execution_count": null,
   "metadata": {},
   "outputs": [],
   "source": [
    "import os\n",
    "import pandas\n",
    "from yaulab_processing import yaml2dict, expYAML\n",
    "from yaulab_processing.yaulab_extras import get_YAMLpaths_with_nwbRaw\n",
    "\n",
    "yaml_parentFolder = \"Y:\\\\Data_Albus\\\\Albus_NeuralData\\\\Albus-S1\"\n",
    "log_parentFolder = \"Y:\\\\Data_Albus\\\\Albus_NeuralData\\\\Albus-S1_logs_xlsx\""
   ]
  },
  {
   "cell_type": "code",
   "execution_count": null,
   "metadata": {},
   "outputs": [],
   "source": [
    "# Get all YAML files with NWB\n",
    "yamlPaths = get_YAMLpaths_with_nwbRaw(folderName=yaml_parentFolder)\n",
    "\n",
    "# Check Excel file for every YAML file\n",
    "for yamlPath in yamlPaths:\n",
    "\n",
    "    # Get LOG file name correspondign to the YAML-day\n",
    "    _, fileName = os.path.split(yamlPath)\n",
    "    fileName_prefix, _ = os.path.splitext(fileName)\n",
    "    expDay_logPath = os.path.join(log_parentFolder, fileName_prefix[0:13] + '.xlsx')\n",
    "\n",
    "    # Read the LOG.xlsx\n",
    "    print('Loading XLSX file: {}........'.format(fileName_prefix[0:13] ))\n",
    "    expDay_log = pandas.read_excel(expDay_logPath, sheet_name=None, header=0, index_col=None, usecols=None, dtype=None)\n",
    "\n",
    "    \n",
    "    # Read YAML:\n",
    "    print('Reading YAML file: {}........'.format(fileName_prefix))\n",
    "    dictYAML = yaml2dict(yamlPath, verbose=False)\n",
    "\n",
    "    # Get Electrode Table (It will check that the Receptive Field scheme matches)\n",
    "    electrodeInfo_YAML_updated = expYAML.getElectrodeList_with_ReceptiveField(dictYAML=dictYAML, expDay_log= expDay_log, skipMissing_RF=False)\n",
    "\n",
    "    "
   ]
  }
 ],
 "metadata": {
  "kernelspec": {
   "display_name": "SIenv",
   "language": "python",
   "name": "python3"
  },
  "language_info": {
   "codemirror_mode": {
    "name": "ipython",
    "version": 3
   },
   "file_extension": ".py",
   "mimetype": "text/x-python",
   "name": "python",
   "nbconvert_exporter": "python",
   "pygments_lexer": "ipython3",
   "version": "3.11.9"
  }
 },
 "nbformat": 4,
 "nbformat_minor": 2
}
